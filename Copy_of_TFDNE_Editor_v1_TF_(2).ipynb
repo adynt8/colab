{
  "nbformat": 4,
  "nbformat_minor": 0,
  "metadata": {
    "colab": {
      "provenance": [],
      "collapsed_sections": [
        "Vutcv21e5DMC"
      ],
      "include_colab_link": true
    },
    "kernelspec": {
      "name": "python3",
      "display_name": "Python 3"
    },
    "accelerator": "TPU"
  },
  "cells": [
    {
      "cell_type": "markdown",
      "metadata": {
        "id": "view-in-github",
        "colab_type": "text"
      },
      "source": [
        "<a href=\"https://colab.research.google.com/github/adynt8/colab/blob/main/Copy_of_TFDNE_Editor_v1_TF_(2).ipynb\" target=\"_parent\"><img src=\"https://colab.research.google.com/assets/colab-badge.svg\" alt=\"Open In Colab\"/></a>"
      ]
    },
    {
      "cell_type": "markdown",
      "metadata": {
        "id": "PtOVza7H9z3Y"
      },
      "source": [
        "# This Fursona Does Not Exist - Fursona Editor (Tensorflow Version)\n",
        "\n",
        "For a faster, easier to use editor (albeit with fewer customization options), try [Artbreeder](https://artbreeder.com) and select a furry image to start customizing.\n",
        "\n",
        "### To run:\n",
        "**Click \"Open in Playground\" above (if you see that option) and then Runtime > Run All and wait a few minutes for everything to load. (Takes about 4 minutes)**\n",
        "\n",
        "Feel free to watch the demo video or read the code (by clicking the triangle in the next section) while you wait.\n",
        "\n",
        "---\n",
        "\n",
        "\n",
        "### Credits\n",
        "\n",
        "Customizable furries using [@arfa](https://twitter.com/arfafax)'s furry StyleGAN2 model from [TFDNE](https://thisfursonadoesnotexist.com/).\n",
        "\n",
        "Latent directions were discovered using [@harskish](https://twitter.com/harskish)'s [Ganspace](https://github.com/harskish/ganspace) [notebook](https://colab.research.google.com/github/harskish/ganspace/blob/master/notebooks/Ganspace_colab.ipynb) put together by [@realmeatyhuman](https://twitter.com/realmeatyhuman), with help from [@KeyKitsune](https://twitter.com/KitsuneKey) for providing code to load the saved latent directions.\n",
        "\n",
        "\n",
        "\n",
        "---\n",
        "\n",
        "\n",
        "\n",
        "### Shameless Plug\n",
        "If you enjoyed This Fursona Does Not Exist and want to see more projects like it in the future, consider supporting me on Ko-fi or Patreon.\n",
        "\n",
        "-arfa\n",
        "\n",
        "\n",
        "<div>\n",
        "<a href=\"https://www.twitter.com/arfafax\">\n",
        "<img src=\"https://thisfursonadoesnotexist.com/arfa_sig.png\" width=\"350\"/>\n",
        "</a>\n",
        "</div>\n",
        "<div>\n",
        "<a href=\"https://ko-fi.com/arfafax\">\n",
        "<img src=\"https://cdn.ko-fi.com/cdn/kofi3.png?v=2\" width=\"220\"/>\n",
        "</a>\n",
        "<a href=\"https://www.patreon.com/arfafax\">\n",
        "<img src=\"https://c5.patreon.com/external/logo/become_a_patron_button.png\" width=\"235\"/>\n",
        "</a>\n",
        "</div>\n",
        "\n",
        "\n"
      ]
    },
    {
      "cell_type": "code",
      "metadata": {
        "id": "9slDK_ew4e8G",
        "outputId": "6d6ce27a-a9f2-4c4f-a9fd-70f04805d95d",
        "cellView": "form",
        "colab": {
          "base_uri": "https://localhost:8080/",
          "height": 761
        }
      },
      "source": [
        "#@title Demo video\n",
        "from IPython.display import YouTubeVideo\n",
        "YouTubeVideo('dyV_URuA0yE', width=1280, height=720)"
      ],
      "execution_count": null,
      "outputs": [
        {
          "output_type": "execute_result",
          "data": {
            "text/plain": [
              "<IPython.lib.display.YouTubeVideo at 0x7fe0142983a0>"
            ],
            "text/html": [
              "\n",
              "        <iframe\n",
              "            width=\"1280\"\n",
              "            height=\"720\"\n",
              "            src=\"https://www.youtube.com/embed/dyV_URuA0yE\"\n",
              "            frameborder=\"0\"\n",
              "            allowfullscreen\n",
              "        ></iframe>\n",
              "        "
            ],
            "image/jpeg": "[encoded data removed]"
          },
          "metadata": {},
          "execution_count": 1
        }
      ]
    },
    {
      "cell_type": "markdown",
      "metadata": {
        "id": "Vutcv21e5DMC"
      },
      "source": [
        "## <- Click the triangle to view the code while you wait for it to load\n"
      ]
    },
    {
      "cell_type": "code",
      "metadata": {
        "id": "Ixs37iA-Mxf2",
        "outputId": "378799fc-a58f-497c-8c6f-96a4cbf6723f",
        "colab": {
          "base_uri": "https://localhost:8080/"
        }
      },
      "source": [
        "!git clone https://github.com/shawwn/stylegan2 -b estimator /content/stylegan2"
      ],
      "execution_count": null,
      "outputs": [
        {
          "output_type": "stream",
          "name": "stdout",
          "text": [
            "Cloning into '/content/stylegan2'...\n",
            "remote: Enumerating objects: 1463, done.\u001b[K\n",
            "remote: Total 1463 (delta 0), reused 0 (delta 0), pack-reused 1463\u001b[K\n",
            "Receiving objects: 100% (1463/1463), 932.46 KiB | 14.80 MiB/s, done.\n",
            "Resolving deltas: 100% (1045/1045), done.\n"
          ]
        }
      ]
    },
    {
      "cell_type": "code",
      "metadata": {
        "id": "pXcjXwwhzJOW",
        "outputId": "439cff63-3a72-4f8c-cc4d-1690ed2669bf",
        "colab": {
          "base_uri": "https://localhost:8080/"
        }
      },
      "source": [
        "import gdown\n",
        "!wget  -O /content/network-e621.pkl https://thisfursonadoesnotexist.com/model/network-e621-r-512-3194880.pkl\n",
        "!wget  -O /content/directions.zip https://thisfursonadoesnotexist.com/directions.zip"
      ],
      "execution_count": null,
      "outputs": [
        {
          "output_type": "stream",
          "name": "stdout",
          "text": [
            "--2023-03-04 20:42:25--  https://thisfursonadoesnotexist.com/model/network-e621-r-512-3194880.pkl\n",
            "Resolving thisfursonadoesnotexist.com (thisfursonadoesnotexist.com)... 172.67.159.181, 104.21.14.150, 2606:4700:3031::6815:e96, ...\n",
            "Connecting to thisfursonadoesnotexist.com (thisfursonadoesnotexist.com)|172.67.159.181|:443... connected.\n",
            "HTTP request sent, awaiting response... 200 OK\n",
            "Length: 364035409 (347M) [application/octet-stream]\n",
            "Saving to: ‘/content/network-e621.pkl’\n",
            "\n",
            "/content/network-e6 100%[===================>] 347.17M  7.32MB/s    in 49s     \n",
            "\n",
            "2023-03-04 20:43:15 (7.10 MB/s) - ‘/content/network-e621.pkl’ saved [364035409/364035409]\n",
            "\n",
            "--2023-03-04 20:43:15--  https://thisfursonadoesnotexist.com/directions.zip\n",
            "Resolving thisfursonadoesnotexist.com (thisfursonadoesnotexist.com)... 104.21.14.150, 172.67.159.181, 2606:4700:3034::ac43:9fb5, ...\n",
            "Connecting to thisfursonadoesnotexist.com (thisfursonadoesnotexist.com)|104.21.14.150|:443... connected.\n",
            "HTTP request sent, awaiting response... 200 OK\n",
            "Length: 155267 (152K) [application/zip]\n",
            "Saving to: ‘/content/directions.zip’\n",
            "\n",
            "/content/directions 100%[===================>] 151.63K   873KB/s    in 0.2s    \n",
            "\n",
            "2023-03-04 20:43:16 (873 KB/s) - ‘/content/directions.zip’ saved [155267/155267]\n",
            "\n"
          ]
        }
      ]
    },
    {
      "cell_type": "code",
      "metadata": {
        "id": "w_diRM7Fn1Pa",
        "outputId": "914f8991-833d-424c-a3c3-42d9728d30b5",
        "colab": {
          "base_uri": "https://localhost:8080/"
        }
      },
      "source": [
        "%tensorflow_version 1.x\n",
        "%cd /content/stylegan2"
      ],
      "execution_count": null,
      "outputs": [
        {
          "output_type": "error",
          "ename": "ValueError",
          "evalue": "ignored",
          "traceback": [
            "\u001b[0;31m---------------------------------------------------------------------------\u001b[0m",
            "\u001b[0;31mValueError\u001b[0m                                Traceback (most recent call last)",
            "\u001b[0;32m<ipython-input-4-8e709a35405f>\u001b[0m in \u001b[0;36m<module>\u001b[0;34m\u001b[0m\n\u001b[0;32m----> 1\u001b[0;31m \u001b[0mget_ipython\u001b[0m\u001b[0;34m(\u001b[0m\u001b[0;34m)\u001b[0m\u001b[0;34m.\u001b[0m\u001b[0mrun_line_magic\u001b[0m\u001b[0;34m(\u001b[0m\u001b[0;34m'tensorflow_version'\u001b[0m\u001b[0;34m,\u001b[0m \u001b[0;34m'1.x'\u001b[0m\u001b[0;34m)\u001b[0m\u001b[0;34m\u001b[0m\u001b[0;34m\u001b[0m\u001b[0m\n\u001b[0m\u001b[1;32m      2\u001b[0m \u001b[0mget_ipython\u001b[0m\u001b[0;34m(\u001b[0m\u001b[0;34m)\u001b[0m\u001b[0;34m.\u001b[0m\u001b[0mrun_line_magic\u001b[0m\u001b[0;34m(\u001b[0m\u001b[0;34m'cd'\u001b[0m\u001b[0;34m,\u001b[0m \u001b[0;34m'/content/stylegan2'\u001b[0m\u001b[0;34m)\u001b[0m\u001b[0;34m\u001b[0m\u001b[0;34m\u001b[0m\u001b[0m\n",
            "\u001b[0;32m/usr/local/lib/python3.8/dist-packages/IPython/core/interactiveshell.py\u001b[0m in \u001b[0;36mrun_line_magic\u001b[0;34m(self, magic_name, line, _stack_depth)\u001b[0m\n\u001b[1;32m   2312\u001b[0m                 \u001b[0mkwargs\u001b[0m\u001b[0;34m[\u001b[0m\u001b[0;34m'local_ns'\u001b[0m\u001b[0;34m]\u001b[0m \u001b[0;34m=\u001b[0m \u001b[0msys\u001b[0m\u001b[0;34m.\u001b[0m\u001b[0m_getframe\u001b[0m\u001b[0;34m(\u001b[0m\u001b[0mstack_depth\u001b[0m\u001b[0;34m)\u001b[0m\u001b[0;34m.\u001b[0m\u001b[0mf_locals\u001b[0m\u001b[0;34m\u001b[0m\u001b[0;34m\u001b[0m\u001b[0m\n\u001b[1;32m   2313\u001b[0m             \u001b[0;32mwith\u001b[0m \u001b[0mself\u001b[0m\u001b[0;34m.\u001b[0m\u001b[0mbuiltin_trap\u001b[0m\u001b[0;34m:\u001b[0m\u001b[0;34m\u001b[0m\u001b[0;34m\u001b[0m\u001b[0m\n\u001b[0;32m-> 2314\u001b[0;31m                 \u001b[0mresult\u001b[0m \u001b[0;34m=\u001b[0m \u001b[0mfn\u001b[0m\u001b[0;34m(\u001b[0m\u001b[0;34m*\u001b[0m\u001b[0margs\u001b[0m\u001b[0;34m,\u001b[0m \u001b[0;34m**\u001b[0m\u001b[0mkwargs\u001b[0m\u001b[0;34m)\u001b[0m\u001b[0;34m\u001b[0m\u001b[0;34m\u001b[0m\u001b[0m\n\u001b[0m\u001b[1;32m   2315\u001b[0m             \u001b[0;32mreturn\u001b[0m \u001b[0mresult\u001b[0m\u001b[0;34m\u001b[0m\u001b[0;34m\u001b[0m\u001b[0m\n\u001b[1;32m   2316\u001b[0m \u001b[0;34m\u001b[0m\u001b[0m\n",
            "\u001b[0;32m/usr/local/lib/python3.8/dist-packages/google/colab/_tensorflow_magics.py\u001b[0m in \u001b[0;36m_tensorflow_version\u001b[0;34m(line)\u001b[0m\n\u001b[1;32m     33\u001b[0m \u001b[0;34m\u001b[0m\u001b[0m\n\u001b[1;32m     34\u001b[0m   \u001b[0;32mif\u001b[0m \u001b[0mline\u001b[0m\u001b[0;34m.\u001b[0m\u001b[0mstartswith\u001b[0m\u001b[0;34m(\u001b[0m\u001b[0;34m\"1\"\u001b[0m\u001b[0;34m)\u001b[0m\u001b[0;34m:\u001b[0m\u001b[0;34m\u001b[0m\u001b[0;34m\u001b[0m\u001b[0m\n\u001b[0;32m---> 35\u001b[0;31m     raise ValueError(\n\u001b[0m\u001b[1;32m     36\u001b[0m         \u001b[0;31m# pylint: disable=line-too-long\u001b[0m\u001b[0;34m\u001b[0m\u001b[0;34m\u001b[0m\u001b[0;34m\u001b[0m\u001b[0m\n\u001b[1;32m     37\u001b[0m         textwrap.dedent(\"\"\"\\\n",
            "\u001b[0;31mValueError\u001b[0m: Tensorflow 1 is unsupported in Colab.\n\nYour notebook should be updated to use Tensorflow 2.\nSee the guide at https://www.tensorflow.org/guide/migrate#migrate-from-tensorflow-1x-to-tensorflow-2."
          ]
        }
      ]
    },
    {
      "cell_type": "code",
      "metadata": {
        "id": "Pt4kvzEM39oI"
      },
      "source": [
        "import os\n",
        "import pickle\n",
        "import numpy as np\n",
        "import PIL.Image\n",
        "import dnnlib\n",
        "import dnnlib.tflib as tflib\n",
        "import scipy\n",
        "import tensorflow as tf\n",
        "import tflex"
      ],
      "execution_count": null,
      "outputs": []
    },
    {
      "cell_type": "code",
      "metadata": {
        "id": "8coaz5KZeFum"
      },
      "source": [
        "if 'COLAB_TPU_ADDR' in os.environ:\n",
        "    os.environ['TPU_NAME'] = 'grpc://' + os.environ['COLAB_TPU_ADDR']\n",
        "    os.environ['NOISY'] = '1'"
      ],
      "execution_count": null,
      "outputs": []
    },
    {
      "cell_type": "code",
      "metadata": {
        "id": "Mg9DrxVNJ8am"
      },
      "source": [
        "tflib.init_tf()\n",
        "sess = tf.get_default_session()\n",
        "sess.list_devices()\n",
        "cores = tflex.get_cores()\n",
        "tflex.set_override_cores(cores)\n",
        "_G, _D, Gs = pickle.load(open(\"/content/network-e621.pkl\", \"rb\"))\n",
        "# _G = Instantaneous snapshot of the generator. Mainly useful for resuming a previous training run.\n",
        "# _D = Instantaneous snapshot of the discriminator. Mainly useful for resuming a previous training run.\n",
        "# Gs = Long-term average of the generator. Yields higher-quality results than the instantaneous snapshot."
      ],
      "execution_count": null,
      "outputs": []
    },
    {
      "cell_type": "code",
      "metadata": {
        "id": "Zh5l7AqyI_7u"
      },
      "source": [
        " def generate_image_from_w(w, truncation_psi):\n",
        "    with tflex.device('/gpu:0'):\n",
        "        #_G, _D, Gs = pickle.load(open(\"/content/network-e621.pkl\", \"rb\"))\n",
        "        noise_vars = [var for name, var in Gs.components.synthesis.vars.items() if name.startswith('noise')]\n",
        "        Gs_kwargs = dnnlib.EasyDict()\n",
        "        Gs_kwargs.output_transform = dict(func=tflib.convert_images_to_uint8, nchw_to_nhwc=True)\n",
        "        Gs_kwargs.randomize_noise = False\n",
        "        if truncation_psi is not None:\n",
        "            Gs_kwargs.truncation_psi = truncation_psi\n",
        "        synthesis_kwargs = dict(output_transform=Gs_kwargs.output_transform, truncation_psi=truncation_psi, minibatch_size=1)\n",
        "        images = Gs.components.synthesis.run(w, randomize_noise=False, **synthesis_kwargs)\n",
        "        #PIL.Image.fromarray(images[0], 'RGB').save('seed%04d.png' % seed)\n",
        "        display(PIL.Image.fromarray(images[0], 'RGB'))"
      ],
      "execution_count": null,
      "outputs": []
    },
    {
      "cell_type": "code",
      "metadata": {
        "id": "OnNwBLIBJnc2"
      },
      "source": [
        "%cd \"/content\""
      ],
      "execution_count": null,
      "outputs": []
    },
    {
      "cell_type": "code",
      "metadata": {
        "id": "dYt6T-A5JqEB"
      },
      "source": [
        "!unzip /content/directions.zip"
      ],
      "execution_count": null,
      "outputs": []
    },
    {
      "cell_type": "code",
      "metadata": {
        "id": "f7mSvjWbJvb0"
      },
      "source": [
        "!rm /content/directions/StyleGAN2-Light_direction-ffhq-ipca-w-style-comp15-range8-9.pkl\n",
        "!rm -r /content/directions/.ipynb_checkpoints\n",
        "#!mv /content/directions/directions/* /content/ganspace/directions\n",
        "!rm -r /content/directions/directions"
      ],
      "execution_count": null,
      "outputs": []
    },
    {
      "cell_type": "code",
      "metadata": {
        "id": "K9oJWI1PJv7e"
      },
      "source": [
        "import os\n",
        "named_directions = {}\n",
        "latent_dirs = []\n",
        "starts = []\n",
        "ends = []\n",
        "# \n",
        "path_to_directions = \"/content/directions\"\n",
        "\n",
        "# This loads the directions in a dictionary in this format:\n",
        "# {'name' : [direction_num, start, end]}\n",
        "# and you load the direction by:\n",
        "# directions[direction_num]\n",
        "\n",
        "for i,file in enumerate(sorted(os.listdir(path_to_directions))):\n",
        "    np_file = np.load(f'{path_to_directions}/{file}', allow_pickle=True)\n",
        "    name = file.split(\"_layers_\")[0].split(\"/\")[-1]\n",
        "    file = file.split('_')\n",
        "    \n",
        "    named_directions[f'{name}'] = [i, int(file[-2]), int(file[-1].split('.')[0])]\n",
        "    latent_dirs.append(np_file)\n"
      ],
      "execution_count": null,
      "outputs": []
    },
    {
      "cell_type": "code",
      "metadata": {
        "id": "-OSkc-vFALMM"
      },
      "source": [
        "named_directions"
      ],
      "execution_count": null,
      "outputs": []
    },
    {
      "cell_type": "markdown",
      "metadata": {
        "id": "YtukNhESJ_b_"
      },
      "source": [
        "# UI"
      ]
    },
    {
      "cell_type": "code",
      "metadata": {
        "id": "Jf1NZHlaKBGV",
        "cellView": "form"
      },
      "source": [
        "#@title Run UI (make sure you've done Runtime > Run All first or it won't work)\n",
        "from ipywidgets import fixed\n",
        "import PIL\n",
        "import numpy as np\n",
        "import ipywidgets as widgets\n",
        "from PIL import Image\n",
        "from IPython.display import clear_output\n",
        "\n",
        "def display_sample(seed, truncation, direction, distance, scale, start, end, update, disp=True, save=None, noise_spec=None, **args):\n",
        "    if update == False:\n",
        "        print(\"False\")\n",
        "    # blockPrint()\n",
        "    rng = np.random.RandomState(seed)\n",
        "    z = rng.standard_normal(*Gs.input_shape[1:]).reshape(1, *Gs.input_shape[1:])\n",
        "\n",
        "    noise_vars = [var for name, var in Gs.components.synthesis.vars.items() if name.startswith('noise')]\n",
        "    Gs_kwargs = dnnlib.EasyDict()\n",
        "    Gs_kwargs.randomize_noise = False\n",
        "\n",
        "    all_w = Gs.components.mapping.run(z, None, **Gs_kwargs) # [minibatch, layer, component]\n",
        "\n",
        "    for i, item in enumerate(args):\n",
        "        value = args[item]\n",
        "        start_l = named_directions[item][1]\n",
        "        end_l = named_directions[item][2]\n",
        "        direction_l = latent_dirs[named_directions[item][0]]\n",
        "        for l in range(start_l, end_l):\n",
        "            all_w[0][l] = all_w[0][l] + direction_l * value * scale\n",
        "\n",
        "    if truncation != 1:\n",
        "        w_avg = Gs.get_var('dlatent_avg')\n",
        "        all_w = w_avg + (all_w - w_avg) * truncation # [minibatch, layer, component]\n",
        "\n",
        "    generate_image_from_w(all_w, truncation)\n",
        "\n",
        "seed = np.random.randint(0,100000)\n",
        "style = {'description_width': '110px'}\n",
        "row_length = 5\n",
        "\n",
        "seed = widgets.IntSlider(min=0, max=100000, step=1, value=seed, description='Seed: ', continuous_update=False)\n",
        "truncation = widgets.FloatSlider(min=0, max=2, step=0.1, value=0.4, description='Truncation: ', continuous_update=False)\n",
        "distance = widgets.FloatSlider(min=-10, max=10, step=0.1, value=0, description='Distance: ', continuous_update=False, style=style)\n",
        "scale = widgets.FloatSlider(min=0, max=10, step=0.05, value=1, description='Scale: ', continuous_update=False)\n",
        "start_layer = widgets.IntSlider(min=0, max=18, step=1, value=18, description='start layer: ', continuous_update=False)\n",
        "end_layer = widgets.IntSlider(min=0, max=18, step=1, value=18, description='end layer: ', continuous_update=False)\n",
        "\n",
        "\n",
        "update = widgets.Checkbox(value=True, description=\"update\")\n",
        "\n",
        "directions_list = []\n",
        "params = {'seed': seed, 'truncation': truncation, 'direction': fixed(0), 'distance': distance, 'scale': scale, 'start': start_layer, 'end': end_layer, 'update' : update}\n",
        "\n",
        "for i, item in enumerate(named_directions):\n",
        "    widget = widgets.FloatSlider(min=-20, max=20, step=0.1, value=0, description=item + ': ', continuous_update=False, style=style, layout={'width' : '350px'})\n",
        "    directions_list.append(widget)\n",
        "    params[item] = widget\n",
        "\n",
        "bot_box = widgets.HBox([seed, truncation])\n",
        "\n",
        "ui = widgets.VBox([bot_box])\n",
        "\n",
        "row_list = []\n",
        "foo = []\n",
        "for i, item in enumerate(directions_list):\n",
        "    row_list.append(item)\n",
        "    if len(row_list) == row_length:\n",
        "        bar = widgets.HBox(row_list)\n",
        "        foo.append(bar)\n",
        "        row_list = []\n",
        "bar = widgets.HBox(row_list)\n",
        "foo.append(bar)\n",
        "\n",
        "ui2 = widgets.VBox(foo)\n",
        "\n",
        "random = widgets.Button(description=\"Randomize Sliders\")\n",
        "reset = widgets.Button(description=\"Reset Sliders\")\n",
        "mobile = widgets.Button(description=\"Mobile Mode\")\n",
        "desktop = widgets.Button(description=\"Desktop Mode\")\n",
        "def reset_sliders(b):\n",
        "    directions_list = []\n",
        "    params_new = {'seed': seed, 'truncation': truncation, 'direction': fixed(0), 'distance': distance, 'scale': scale, 'start': start_layer, 'end': end_layer, 'update' : update}\n",
        "    for i, item in enumerate(named_directions):\n",
        "        widget = widgets.FloatSlider(min=-20, max=20, step=0.1, value=0, description=item + ': ', continuous_update=False, style=style, layout={'width' : '350px'})\n",
        "        directions_list.append(widget)\n",
        "        params_new[item] = widget\n",
        "    params = params_new\n",
        "    row_list = []\n",
        "    foo = []\n",
        "    for i, item in enumerate(directions_list):\n",
        "        row_list.append(item)\n",
        "        if len(row_list) == row_length:\n",
        "            bar = widgets.HBox(row_list)\n",
        "            foo.append(bar)\n",
        "            row_list = []\n",
        "    bar = widgets.HBox(row_list)\n",
        "    foo.append(bar)\n",
        "\n",
        "    ui2 = widgets.VBox(foo)\n",
        "    clear_output()\n",
        "    out = widgets.interactive_output(display_sample, params)\n",
        "    last_button = mobile\n",
        "    if row_length == 1:\n",
        "        last_button = desktop\n",
        "    display(ui, out, ui2, reset, random, last_button)\n",
        "\n",
        "def random_sliders(b):\n",
        "    directions_list = []\n",
        "    params_new = {'seed': seed, 'truncation': truncation, 'direction': fixed(0), 'distance': distance, 'scale': scale, 'start': start_layer, 'end': end_layer, 'update' : update}\n",
        "    for i, item in enumerate(named_directions):\n",
        "        widget = widgets.FloatSlider(min=-20, max=20, step=0.1, value=np.random.normal(scale=2.5), description=item + ': ', continuous_update=False, style=style, layout={'width' : '350px'})\n",
        "        directions_list.append(widget)\n",
        "        params_new[item] = widget\n",
        "    params = params_new\n",
        "    row_list = []\n",
        "    foo = []\n",
        "    for i, item in enumerate(directions_list):\n",
        "        row_list.append(item)\n",
        "        if len(row_list) == row_length:\n",
        "            bar = widgets.HBox(row_list)\n",
        "            foo.append(bar)\n",
        "            row_list = []\n",
        "    bar = widgets.HBox(row_list)\n",
        "    foo.append(bar)\n",
        "\n",
        "    ui2 = widgets.VBox(foo)\n",
        "    clear_output()\n",
        "    out = widgets.interactive_output(display_sample, params)\n",
        "    last_button = mobile\n",
        "    if row_length == 1:\n",
        "        last_button = desktop\n",
        "    display(ui, out, ui2, reset, random, last_button)\n",
        "\n",
        "def mobile_mode(b):\n",
        "    global row_length\n",
        "    global params\n",
        "    row_length = 1\n",
        "    directions_list = []\n",
        "    params_new = {'seed': seed, 'truncation': truncation, 'direction': fixed(0), 'distance': distance, 'scale': scale, 'start': start_layer, 'end': end_layer, 'update' : update}\n",
        "    for i, item in enumerate(named_directions):\n",
        "        widget = widgets.FloatSlider(min=-20, max=20, step=0.1, value=params[item].value, description=item + ': ', continuous_update=False, style=style, layout={'width' : '350px'})\n",
        "        directions_list.append(widget)\n",
        "        params_new[item] = widget\n",
        "    params = params_new\n",
        "    row_list = []\n",
        "    foo = []\n",
        "    for i, item in enumerate(directions_list):\n",
        "        row_list.append(item)\n",
        "        if len(row_list) == row_length:\n",
        "            bar = widgets.HBox(row_list)\n",
        "            foo.append(bar)\n",
        "            row_list = []\n",
        "    bar = widgets.HBox(row_list)\n",
        "    foo.append(bar)\n",
        "\n",
        "    ui2 = widgets.VBox(foo)\n",
        "    clear_output()\n",
        "    out = widgets.interactive_output(display_sample, params)\n",
        "    display(ui, out, ui2, reset, random, desktop)\n",
        "\n",
        "def desktop_mode(b):\n",
        "    global row_length\n",
        "    global params\n",
        "    row_length = 5\n",
        "    directions_list = []\n",
        "    params_new = {'seed': seed, 'truncation': truncation, 'direction': fixed(0), 'distance': distance, 'scale': scale, 'start': start_layer, 'end': end_layer, 'update' : update}\n",
        "    for i, item in enumerate(named_directions):\n",
        "        widget = widgets.FloatSlider(min=-20, max=20, step=0.1, value=params[item].value, description=item + ': ', continuous_update=False, style=style, layout={'width' : '350px'})\n",
        "        directions_list.append(widget)\n",
        "        params_new[item] = widget\n",
        "    params = params_new\n",
        "    row_list = []\n",
        "    foo = []\n",
        "    for i, item in enumerate(directions_list):\n",
        "        row_list.append(item)\n",
        "        if len(row_list) == row_length:\n",
        "            bar = widgets.HBox(row_list)\n",
        "            foo.append(bar)\n",
        "            row_list = []\n",
        "    bar = widgets.HBox(row_list)\n",
        "    foo.append(bar)\n",
        "\n",
        "    ui2 = widgets.VBox(foo)\n",
        "    clear_output()\n",
        "    out = widgets.interactive_output(display_sample, params)\n",
        "    display(ui, out, ui2, reset, random, mobile)\n",
        "\n",
        "random.on_click(random_sliders)\n",
        "reset.on_click(reset_sliders)\n",
        "mobile.on_click(mobile_mode)\n",
        "desktop.on_click(desktop_mode)\n",
        "out = widgets.interactive_output(display_sample, params)\n",
        "\n",
        "display(ui, out, ui2, reset, random, mobile)\n"
      ],
      "execution_count": null,
      "outputs": []
    }
  ]
}